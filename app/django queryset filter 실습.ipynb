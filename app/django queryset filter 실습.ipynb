{
 "cells": [
  {
   "cell_type": "code",
   "execution_count": 62,
   "metadata": {},
   "outputs": [
    {
     "data": {
      "text/plain": [
       "<QuerySet [<Post: zehye가 #python #Django를 2019-12-23 09:37:39.222518+00:00에 작성했어요.>, <Post: zehye가 하하하하ㅏ하핳하하ㅏ하하하하핳를 2019-12-24 06:19:49.040156+00:00에 작성했어요.>, <Post: zehye가 히히 곱창 조아용를 2019-12-24 06:21:14.256943+00:00에 작성했어요.>, <Post: zehye가 qweqwe를 2020-01-08 06:47:06.609867+00:00에 작성했어요.>, <Post: zehye가 qweqweq를 2020-01-08 06:49:58.470315+00:00에 작성했어요.>, <Post: zehye가 qweqweqwe를 2020-01-08 07:10:48.054606+00:00에 작성했어요.>, <Post: zehye가 qweqweqwe를 2020-01-08 07:13:15.080054+00:00에 작성했어요.>, <Post: zehye가 오늘은 신나는 <a href=\"/explore/tags/WPS/\"WPS</a> <a href=\"/explore/tags/Python/\"Python</a> <a href=\"/explore/tags/Django/\"Django</a>를 2020-01-08 08:10:35.912762+00:00에 작성했어요.>, <Post: zehye가 qweqwe를 2020-01-15 02:17:03.954058+00:00에 작성했어요.>]>"
      ]
     },
     "execution_count": 62,
     "metadata": {},
     "output_type": "execute_result"
    }
   ],
   "source": [
    "# 1. Post 중에서 자신에게 포함된 Comment들 중에 content 속성(column)에 '이한영'이라는 문자열이 들어가는 경우인 Comment가 존재하는 Post 목록\n",
    "# - 일부 Post가 '이한영'이라는 내용을 포함하는 댓글을 가져야 함'\n",
    "# 1-1 Post 중에서 태그가 없는 경우만 Post 목록\n",
    "Post.objects.filter(postcomment__content__contains='곱창')\n",
    "Post.objects.filter(tags__isnull=True)"
   ]
  },
  {
   "cell_type": "code",
   "execution_count": 71,
   "metadata": {},
   "outputs": [
    {
     "data": {
      "text/plain": [
       "<QuerySet [<Post: zehye가 #python #Django를 2019-12-23 09:37:39.222518+00:00에 작성했어요.>, <Post: zehye가 하하하하ㅏ하핳하하ㅏ하하하하핳를 2019-12-24 06:19:49.040156+00:00에 작성했어요.>, <Post: zehye가 qweqwe를 2020-01-08 06:47:06.609867+00:00에 작성했어요.>, <Post: zehye가 qweqweq를 2020-01-08 06:49:58.470315+00:00에 작성했어요.>, <Post: zehye가 qweqweqwe를 2020-01-08 07:10:48.054606+00:00에 작성했어요.>, <Post: zehye가 qweqweqwe를 2020-01-08 07:13:15.080054+00:00에 작성했어요.>, <Post: zehye가 오늘은 신나는 <a href=\"/explore/tags/WPS/\"WPS</a> <a href=\"/explore/tags/Python/\"Python</a> <a href=\"/explore/tags/Django/\"Django</a>를 2020-01-08 08:10:35.912762+00:00에 작성했어요.>, <Post: zehye가 저는 곱창이 좋아요. #곱창 #좋아요를 2020-01-14 09:01:32.993819+00:00에 작성했어요.>, <Post: zehye가 #하이 #헬로를 2020-01-14 09:08:33.222536+00:00에 작성했어요.>, <Post: zehye가 #곱창 #좋아요를 2020-01-14 09:20:21.035014+00:00에 작성했어요.>, <Post: zehye가 #곱창 #좋아요를 2020-01-14 09:20:59.809815+00:00에 작성했어요.>, <Post: zehye가 #하이 #곱창를 2020-01-14 09:23:45.225969+00:00에 작성했어요.>, <Post: zehye가 #곱창 #먹고싶다를 2020-01-14 09:24:19.022057+00:00에 작성했어요.>, <Post: zehye가 #qwe #ㅂㄷㅂㅈㄷ를 2020-01-14 10:14:53.228410+00:00에 작성했어요.>]>"
      ]
     },
     "execution_count": 71,
     "metadata": {},
     "output_type": "execute_result"
    }
   ],
   "source": [
    "# 2.Post중에서 자신에게 포함된 Comment들 중에 Post의 author와 Comment의 author가 다른 경우인 Comment가 존재하는 Post 목록\n",
    "#     > 댓글은 존재하나, 작성자가 작성한 댓글은 없는 경우인 Post 목록\n",
    "#     - Post 작성자 외에 다른 사용자가 댓글을 단 경우가 존재하여야 함\n",
    "#     - Django의 F Expression을 사용 \n",
    "from django.db.models import F\n",
    "Post.objects.exclude(postcomment__author=F('author'))"
   ]
  },
  {
   "cell_type": "code",
   "execution_count": 64,
   "metadata": {},
   "outputs": [
    {
     "data": {
      "text/plain": [
       "<QuerySet [<Tag: 곱창>, <Tag: 좋아요>, <Tag: 하이>, <Tag: 헬로>, <Tag: 곱창>, <Tag: 좋아요>, <Tag: 곱창>, <Tag: 좋아요>, <Tag: 곱창>, <Tag: 하이>, <Tag: 곱창>, <Tag: 먹고싶다>, <Tag: qwe>, <Tag: ㅂㄷㅂㅈㄷ>]>"
      ]
     },
     "execution_count": 64,
     "metadata": {},
     "output_type": "execute_result"
    }
   ],
   "source": [
    "# 3.Tag 중에서 자신에게 연결된 Post의 author의 pk가 1인 경우면 Tag목록\n",
    "#     - 없다면 author의 pk를 바꿔본다\n",
    "\n",
    "Tag.objects.filter(posts__author__pk=1)"
   ]
  },
  {
   "cell_type": "code",
   "execution_count": 97,
   "metadata": {},
   "outputs": [
    {
     "data": {
      "text/plain": [
       "<QuerySet [<Post: zehye가 #python #Django를 2019-12-23 09:37:39.222518+00:00에 작성했어요.>, <Post: zehye가 qweqwe를 2020-01-08 06:47:06.609867+00:00에 작성했어요.>, <Post: zehye가 qweqweqwe를 2020-01-08 07:10:48.054606+00:00에 작성했어요.>, <Post: zehye가 qweqweqwe를 2020-01-08 07:13:15.080054+00:00에 작성했어요.>, <Post: zehye가 오늘은 신나는 <a href=\"/explore/tags/WPS/\"WPS</a> <a href=\"/explore/tags/Python/\"Python</a> <a href=\"/explore/tags/Django/\"Django</a>를 2020-01-08 08:10:35.912762+00:00에 작성했어요.>, <Post: zehye가 저는 곱창이 좋아요. #곱창 #좋아요를 2020-01-14 09:01:32.993819+00:00에 작성했어요.>, <Post: zehye가 #하이 #헬로를 2020-01-14 09:08:33.222536+00:00에 작성했어요.>, <Post: zehye가 #곱창 #좋아요를 2020-01-14 09:20:21.035014+00:00에 작성했어요.>, <Post: zehye가 #곱창 #좋아요를 2020-01-14 09:20:59.809815+00:00에 작성했어요.>, <Post: zehye가 #하이 #곱창를 2020-01-14 09:23:45.225969+00:00에 작성했어요.>, <Post: zehye가 #곱창 #먹고싶다를 2020-01-14 09:24:19.022057+00:00에 작성했어요.>]>"
      ]
     },
     "execution_count": 97,
     "metadata": {},
     "output_type": "execute_result"
    }
   ],
   "source": [
    "# 4.Post 중에서 자신의 종아요(PostLike)가 존재하는 Post목록\n",
    "#     - Field lookup의 'isnull' 항목 참조\n",
    "Post.objects.filter(postlike__isnull=True)"
   ]
  },
  {
   "cell_type": "code",
   "execution_count": 66,
   "metadata": {
    "scrolled": true
   },
   "outputs": [
    {
     "data": {
      "text/plain": [
       "<QuerySet [<PostComment: PostComment object (1)>, <PostComment: PostComment object (2)>, <PostComment: PostComment object (3)>]>"
      ]
     },
     "execution_count": 66,
     "metadata": {},
     "output_type": "execute_result"
    }
   ],
   "source": [
    "# 5.Comment 중에서 자신의 Post의 좋아요가 존재하는 Comment 목록\n",
    "#     - Field lookup의 'isnull' 항목 참조\n",
    "\n",
    "PostComment.objects.filter()"
   ]
  },
  {
   "cell_type": "code",
   "execution_count": 55,
   "metadata": {},
   "outputs": [
    {
     "data": {
      "text/plain": [
       "<QuerySet []>"
      ]
     },
     "execution_count": 55,
     "metadata": {},
     "output_type": "execute_result"
    }
   ],
   "source": [
    "# 6.Comment중에서 자신의 Post에 속하는 가장 최근 PostLike가 1주일 이내인 Comment 목록\n",
    "#     - from django.utils import timezone\n",
    "#     - 현재시간은 timezone.now()로 가져올 수 있음\n",
    "\n",
    "PostComment.objects.filter(post__postlike__created__lte=timezone.now()-timezone.timedelta(days=7))"
   ]
  },
  {
   "cell_type": "code",
   "execution_count": 60,
   "metadata": {},
   "outputs": [
    {
     "data": {
      "text/plain": [
       "<QuerySet [{'pk': 3}]>"
      ]
     },
     "execution_count": 60,
     "metadata": {},
     "output_type": "execute_result"
    }
   ],
   "source": [
    "#1\n",
    "Post.objects.filter(postcomment__content__contains='곱창').values('pk')"
   ]
  },
  {
   "cell_type": "code",
   "execution_count": 57,
   "metadata": {},
   "outputs": [
    {
     "data": {
      "text/plain": [
       "<QuerySet [16, 8, 7, 6, 5, 4, 3, 2, 1]>"
      ]
     },
     "execution_count": 57,
     "metadata": {},
     "output_type": "execute_result"
    }
   ],
   "source": [
    "#1-1\n",
    "Post.objects.filter(tags__isnull=True).values_list('pk', flat=True).order_by('-pk')"
   ]
  },
  {
   "cell_type": "code",
   "execution_count": 58,
   "metadata": {},
   "outputs": [
    {
     "data": {
      "text/plain": [
       "<QuerySet []>"
      ]
     },
     "execution_count": 58,
     "metadata": {},
     "output_type": "execute_result"
    }
   ],
   "source": [
    "#2\n",
    "Post.objects.exclude(postcomment__isnull=True\n",
    "                    ).exclude(postcomment__author=F('author'),\n",
    "                             ).values_list('pk', flat=True).order_by('-pk')"
   ]
  },
  {
   "cell_type": "code",
   "execution_count": 83,
   "metadata": {},
   "outputs": [
    {
     "data": {
      "text/plain": [
       "<QuerySet [9, 10, 11, 12, 13, 14, 15]>"
      ]
     },
     "execution_count": 83,
     "metadata": {},
     "output_type": "execute_result"
    }
   ],
   "source": [
    "#3\n",
    "Tag.objects.filter(posts__author__pk=1).values_list('posts', flat=True).distinct()"
   ]
  },
  {
   "cell_type": "code",
   "execution_count": 92,
   "metadata": {},
   "outputs": [
    {
     "data": {
      "text/plain": [
       "<QuerySet [(5,), (6,), (7,), (8,), (5,), (6,), (5,), (6,), (5,), (7,), (5,), (9,), (10,), (11,)]>"
      ]
     },
     "execution_count": 92,
     "metadata": {},
     "output_type": "execute_result"
    }
   ],
   "source": [
    "Tag.objects.filter(posts__author__pk=1).values_list('pk')"
   ]
  },
  {
   "cell_type": "code",
   "execution_count": 93,
   "metadata": {},
   "outputs": [
    {
     "data": {
      "text/plain": [
       "<QuerySet [(9,), (9,), (10,), (10,), (11,), (11,), (12,), (12,), (13,), (13,), (14,), (14,), (15,), (15,)]>"
      ]
     },
     "execution_count": 93,
     "metadata": {},
     "output_type": "execute_result"
    }
   ],
   "source": [
    "Tag.objects.filter(posts__author__pk=1).values_list('posts')"
   ]
  },
  {
   "cell_type": "code",
   "execution_count": 96,
   "metadata": {},
   "outputs": [
    {
     "data": {
      "text/plain": [
       "<QuerySet [2, 3, 5, 15, 16]>"
      ]
     },
     "execution_count": 96,
     "metadata": {},
     "output_type": "execute_result"
    }
   ],
   "source": [
    "#4\n",
    "# Post.objects.filter(postlike__isnull=False)\n",
    "\n",
    "Post.objects.exclude(postlike__isnull=True).values_list('pk', flat=True)"
   ]
  },
  {
   "cell_type": "code",
   "execution_count": 109,
   "metadata": {},
   "outputs": [
    {
     "data": {
      "text/plain": [
       "<QuerySet []>"
      ]
     },
     "execution_count": 109,
     "metadata": {},
     "output_type": "execute_result"
    }
   ],
   "source": [
    "#5\n",
    "PostComment.objects.exclude(post__postlike__isnull=False).values_list('pk', flat=True).distinct()"
   ]
  },
  {
   "cell_type": "code",
   "execution_count": 114,
   "metadata": {},
   "outputs": [
    {
     "data": {
      "text/plain": [
       "<QuerySet [<PostComment: PostComment object (1)>]>"
      ]
     },
     "execution_count": 114,
     "metadata": {},
     "output_type": "execute_result"
    }
   ],
   "source": [
    "#6\n",
    "PostComment.objects.filter(post__postlike__created__lte=timezone.now()-timezone.timedelta(days=7))"
   ]
  },
  {
   "cell_type": "code",
   "execution_count": 117,
   "metadata": {},
   "outputs": [],
   "source": [
    "from datetime import timedelta\n",
    "now = timezone.now()\n",
    "a_week_ago = now-timedelta(hours=2)"
   ]
  },
  {
   "cell_type": "code",
   "execution_count": 119,
   "metadata": {},
   "outputs": [
    {
     "data": {
      "text/plain": [
       "<QuerySet [{'pk': 5, 'postlike__user': 1}, {'pk': 2, 'postlike__user': 1}, {'pk': 3, 'postlike__user': 1}]>"
      ]
     },
     "execution_count": 119,
     "metadata": {},
     "output_type": "execute_result"
    }
   ],
   "source": [
    "Post.objects.filter(postlike__created__lt=a_week_ago).values('pk', 'postlike__user')"
   ]
  },
  {
   "cell_type": "code",
   "execution_count": 123,
   "metadata": {},
   "outputs": [],
   "source": [
    "for item in PostComment.objects.filter(post__postlike__created__lt=a_week_ago\n",
    "                          ).values('pk','post','post__postlike__created').order_by('-post__pk').filter(post__pk=21):\n",
    "    print(item)"
   ]
  },
  {
   "cell_type": "code",
   "execution_count": 125,
   "metadata": {},
   "outputs": [],
   "source": [
    "for item in PostComment.objects.filter(\n",
    "post__pk=1).values('pk', 'post__postlike__created'):\n",
    "    print(item)"
   ]
  },
  {
   "cell_type": "code",
   "execution_count": 133,
   "metadata": {},
   "outputs": [],
   "source": [
    "#7 각각의 Post에 댓글이 몇개 달렸는지 QuerySet.values()로 꺼내보기\n",
    "# Djnago annotate / aggregate\n",
    "# QuerySetAPI의 Aggregation function의 Count()를 사용해야 함 -> QuerySet.Count()와 다르다\n",
    "# Post.objects.annotate(<무언가>).filter(<왼쪽에서 한걸 활용>)"
   ]
  },
  {
   "cell_type": "code",
   "execution_count": 129,
   "metadata": {},
   "outputs": [],
   "source": [
    "post = Post.objects.last()"
   ]
  },
  {
   "cell_type": "code",
   "execution_count": 130,
   "metadata": {},
   "outputs": [
    {
     "data": {
      "text/plain": [
       "<QuerySet [(1, 0), (2, 0), (3, 1), (4, 0), (5, 0), (6, 0), (7, 0), (8, 0), (9, 0), (10, 0), (11, 0), (12, 0), (13, 0), (14, 0), (15, 0), (16, 2)]>"
      ]
     },
     "execution_count": 130,
     "metadata": {},
     "output_type": "execute_result"
    }
   ],
   "source": [
    "Post.objects.annotate(comment_count=Count('postcomment')).values_list('pk', 'comment_count')"
   ]
  },
  {
   "cell_type": "code",
   "execution_count": 136,
   "metadata": {},
   "outputs": [
    {
     "data": {
      "text/plain": [
       "<QuerySet [14, 16]>"
      ]
     },
     "execution_count": 136,
     "metadata": {},
     "output_type": "execute_result"
    }
   ],
   "source": [
    "#8 위 기능에 성공했다면, 댓글이 3개 이상인 Post 목록만 가져오기\n",
    "# Post.objects.annotate(<무언가>).filter(<왼쪽에서 한걸 활용>)\n",
    "Post.objects.annotate(comment_count=Count('postcomment'),).filter(comment_count__gte=3).values_list('pk',flat=True)"
   ]
  },
  {
   "cell_type": "code",
   "execution_count": 141,
   "metadata": {},
   "outputs": [
    {
     "data": {
      "text/plain": [
       "<QuerySet [(1, None), (2, 6), (3, 7), (4, None), (5, 5), (6, None), (7, None), (8, None), (9, None), (10, None), (11, None), (12, None), (13, None), (15, 10), (16, 9)]>"
      ]
     },
     "execution_count": 141,
     "metadata": {},
     "output_type": "execute_result"
    }
   ],
   "source": [
    "#9 위 기능에 성공했다면, 댓글이 3개 이상이며 댓글 개수가 좋아요 개수보다 많은 Post 목록만 가져오기\n",
    "# Post.objects.annotate(<무언가>).filter(<왼쪽에서 한걸 활용>)\n",
    "\n",
    "Post.objects.annotate(comment_count=Count('postcomment'),like_count=Count('postlike'),\n",
    "                     ).filter(comment_count__lte=F('like_count')).values_list('pk', 'postlike')"
   ]
  },
  {
   "cell_type": "code",
   "execution_count": null,
   "metadata": {},
   "outputs": [],
   "source": []
  }
 ],
 "metadata": {
  "kernelspec": {
   "display_name": "Django Shell-Plus",
   "language": "python",
   "name": "django_extensions"
  },
  "language_info": {
   "codemirror_mode": {
    "name": "ipython",
    "version": 3
   },
   "file_extension": ".py",
   "mimetype": "text/x-python",
   "name": "python",
   "nbconvert_exporter": "python",
   "pygments_lexer": "ipython3",
   "version": "3.7.4"
  }
 },
 "nbformat": 4,
 "nbformat_minor": 2
}
