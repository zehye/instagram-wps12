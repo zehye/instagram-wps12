{
 "cells": [
  {
   "cell_type": "code",
   "execution_count": 1,
   "metadata": {},
   "outputs": [
    {
     "data": {
      "text/plain": [
       "<QuerySet [<Post: zehye가 #python #Django를 2019-12-23 09:37:39.222518+00:00에 작성했어요.>, <Post: zehye가 하하하하ㅏ하핳하하ㅏ하하하하핳를 2019-12-24 06:19:49.040156+00:00에 작성했어요.>, <Post: zehye가 히히 곱창 조아용를 2019-12-24 06:21:14.256943+00:00에 작성했어요.>, <Post: zehye가 qweqwe를 2020-01-08 06:47:06.609867+00:00에 작성했어요.>, <Post: zehye가 qweqweq를 2020-01-08 06:49:58.470315+00:00에 작성했어요.>, <Post: zehye가 qweqweqwe를 2020-01-08 07:10:48.054606+00:00에 작성했어요.>, <Post: zehye가 qweqweqwe를 2020-01-08 07:13:15.080054+00:00에 작성했어요.>, <Post: zehye가 오늘은 신나는 <a href=\"/explore/tags/WPS/\"WPS</a> <a href=\"/explore/tags/Python/\"Python</a> <a href=\"/explore/tags/Django/\"Django</a>를 2020-01-08 08:10:35.912762+00:00에 작성했어요.>, <Post: zehye가 저는 곱창이 좋아요. #곱창 #좋아요를 2020-01-14 09:01:32.993819+00:00에 작성했어요.>, <Post: zehye가 #하이 #헬로를 2020-01-14 09:08:33.222536+00:00에 작성했어요.>, <Post: zehye가 #곱창 #좋아요를 2020-01-14 09:20:21.035014+00:00에 작성했어요.>, <Post: zehye가 #곱창 #좋아요를 2020-01-14 09:20:59.809815+00:00에 작성했어요.>, <Post: zehye가 #하이 #곱창를 2020-01-14 09:23:45.225969+00:00에 작성했어요.>, <Post: zehye가 #곱창 #먹고싶다를 2020-01-14 09:24:19.022057+00:00에 작성했어요.>]>"
      ]
     },
     "execution_count": 1,
     "metadata": {},
     "output_type": "execute_result"
    }
   ],
   "source": [
    "Post.objects.all()"
   ]
  },
  {
   "cell_type": "code",
   "execution_count": 2,
   "metadata": {},
   "outputs": [
    {
     "data": {
      "text/plain": [
       "<QuerySet [<Tag: Python>, <Tag: python>, <Tag: Django>, <Tag: WPS>, <Tag: 곱창>, <Tag: 좋아요>, <Tag: 하이>, <Tag: 헬로>, <Tag: 먹고싶다>]>"
      ]
     },
     "execution_count": 2,
     "metadata": {},
     "output_type": "execute_result"
    }
   ],
   "source": [
    "Tag.objects.all()"
   ]
  },
  {
   "cell_type": "code",
   "execution_count": 5,
   "metadata": {},
   "outputs": [
    {
     "ename": "AttributeError",
     "evalue": "'Tag' object has no attribute 'posts'",
     "output_type": "error",
     "traceback": [
      "\u001b[0;31m---------------------------------------------------------------------------\u001b[0m",
      "\u001b[0;31mAttributeError\u001b[0m                            Traceback (most recent call last)",
      "\u001b[0;32m<ipython-input-5-2b371001109f>\u001b[0m in \u001b[0;36m<module>\u001b[0;34m\u001b[0m\n\u001b[1;32m      2\u001b[0m     result = '{tag}: {posts}'.format(\n\u001b[1;32m      3\u001b[0m         \u001b[0mtag\u001b[0m\u001b[0;34m=\u001b[0m\u001b[0mtag\u001b[0m\u001b[0;34m.\u001b[0m\u001b[0mname\u001b[0m\u001b[0;34m,\u001b[0m\u001b[0;34m\u001b[0m\u001b[0;34m\u001b[0m\u001b[0m\n\u001b[0;32m----> 4\u001b[0;31m         \u001b[0mposts\u001b[0m\u001b[0;34m=\u001b[0m\u001b[0;34m','\u001b[0m\u001b[0;34m.\u001b[0m\u001b[0mjoin\u001b[0m\u001b[0;34m(\u001b[0m\u001b[0;34m[\u001b[0m\u001b[0mstr\u001b[0m\u001b[0;34m(\u001b[0m\u001b[0mpost\u001b[0m\u001b[0;34m.\u001b[0m\u001b[0mpk\u001b[0m\u001b[0;34m)\u001b[0m \u001b[0;32mfor\u001b[0m \u001b[0mpost\u001b[0m \u001b[0;32min\u001b[0m \u001b[0mtag\u001b[0m\u001b[0;34m.\u001b[0m\u001b[0mposts\u001b[0m\u001b[0;34m.\u001b[0m\u001b[0mall\u001b[0m\u001b[0;34m(\u001b[0m\u001b[0;34m)\u001b[0m\u001b[0;34m]\u001b[0m\u001b[0;34m)\u001b[0m\u001b[0;34m\u001b[0m\u001b[0;34m\u001b[0m\u001b[0m\n\u001b[0m\u001b[1;32m      5\u001b[0m     )\n\u001b[1;32m      6\u001b[0m \u001b[0;34m\u001b[0m\u001b[0m\n",
      "\u001b[0;31mAttributeError\u001b[0m: 'Tag' object has no attribute 'posts'"
     ]
    }
   ],
   "source": [
    "for tag in Tag.objects.all():\n",
    "    result = '{tag}: {posts}'.format(\n",
    "        tag=tag.name,\n",
    "        posts=','.join([str(post.pk) for post in tag.posts.all()])\n",
    "    )\n",
    "\n",
    "    print(result)"
   ]
  },
  {
   "cell_type": "code",
   "execution_count": 8,
   "metadata": {},
   "outputs": [
    {
     "data": {
      "text/plain": [
       "<QuerySet []>"
      ]
     },
     "execution_count": 8,
     "metadata": {},
     "output_type": "execute_result"
    }
   ],
   "source": [
    "Post.objects.filter(tags__name__iexact='Python').values('pk')"
   ]
  },
  {
   "cell_type": "code",
   "execution_count": null,
   "metadata": {},
   "outputs": [],
   "source": []
  }
 ],
 "metadata": {
  "kernelspec": {
   "display_name": "Django Shell-Plus",
   "language": "python",
   "name": "django_extensions"
  },
  "language_info": {
   "codemirror_mode": {
    "name": "ipython",
    "version": 3
   },
   "file_extension": ".py",
   "mimetype": "text/x-python",
   "name": "python",
   "nbconvert_exporter": "python",
   "pygments_lexer": "ipython3",
   "version": "3.7.4"
  }
 },
 "nbformat": 4,
 "nbformat_minor": 2
}
